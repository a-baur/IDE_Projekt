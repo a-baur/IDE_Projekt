{
 "cells": [
  {
   "cell_type": "markdown",
   "metadata": {
    "collapsed": true,
    "pycharm": {
     "name": "#%% md\n"
    }
   },
   "source": [
    "# Analysis of Author Metrics\n",
    "\n",
    "This notebook shows, how our graphs enables the analysis of author metrics."
   ]
  },
  {
   "cell_type": "code",
   "execution_count": 23,
   "outputs": [
    {
     "data": {
      "text/plain": "<Graph identifier=N0fd463374c34407b8dda3e9e3fb64d2a (<class 'graph.oa_graph.OpenAlexGraph'>)>"
     },
     "execution_count": 23,
     "metadata": {},
     "output_type": "execute_result"
    }
   ],
   "source": [
    "\n",
    "from graph.oa_graph import OpenAlexGraph\n",
    "from graph.analyse_graph import (\n",
    "    res_to_dataframe,\n",
    ")\n",
    "\n",
    "g = OpenAlexGraph()\n",
    "g.parse(\"out/graph.ttl\")  # for performance, keep graph loaded"
   ],
   "metadata": {
    "collapsed": false,
    "pycharm": {
     "name": "#%%\n"
    }
   }
  },
  {
   "cell_type": "markdown",
   "source": [
    "# Number of Works\n",
    "\n",
    "We can simply query the number of works for an author."
   ],
   "metadata": {
    "collapsed": false
   }
  },
  {
   "cell_type": "code",
   "execution_count": 16,
   "outputs": [
    {
     "data": {
      "text/plain": "            AUTHOR  PUBLICATIONS\n0   Stefan Wermter           295\n1  Frank Steinicke           131",
      "text/html": "<div>\n<style scoped>\n    .dataframe tbody tr th:only-of-type {\n        vertical-align: middle;\n    }\n\n    .dataframe tbody tr th {\n        vertical-align: top;\n    }\n\n    .dataframe thead th {\n        text-align: right;\n    }\n</style>\n<table border=\"1\" class=\"dataframe\">\n  <thead>\n    <tr style=\"text-align: right;\">\n      <th></th>\n      <th>AUTHOR</th>\n      <th>PUBLICATIONS</th>\n    </tr>\n  </thead>\n  <tbody>\n    <tr>\n      <th>0</th>\n      <td>Stefan Wermter</td>\n      <td>295</td>\n    </tr>\n    <tr>\n      <th>1</th>\n      <td>Frank Steinicke</td>\n      <td>131</td>\n    </tr>\n  </tbody>\n</table>\n</div>"
     },
     "execution_count": 16,
     "metadata": {},
     "output_type": "execute_result"
    }
   ],
   "source": [
    "authors = [\"Stefan Wermter\", \"Frank Steinicke\"]\n",
    "\n",
    "author_list = '\" \"'.join(authors)\n",
    "q = f\"\"\"\n",
    "    SELECT\n",
    "        (?name as ?AUTHOR)\n",
    "        (COUNT(?work) as ?PUBLICATIONS)\n",
    "    WHERE {{\n",
    "        ?id a schema:Person ;\n",
    "            schema:name ?name ;\n",
    "            schema:author ?work ;\n",
    "\n",
    "        VALUES ?name {{ \"{author_list}\" }}\n",
    "    }}\n",
    "    GROUP BY ?name\n",
    "    ORDER BY DESC(?WORK_NUMBER)\n",
    "\"\"\"\n",
    "df = res_to_dataframe(g.query(q))\n",
    "df.head()"
   ],
   "metadata": {
    "collapsed": false,
    "pycharm": {
     "name": "#%%\n"
    }
   }
  },
  {
   "cell_type": "markdown",
   "source": [
    "We can also query the number of citations for a specific author. Since only works of Hamburgs universities are included, only those will count to the citation count."
   ],
   "metadata": {
    "collapsed": false
   }
  },
  {
   "cell_type": "code",
   "execution_count": 15,
   "outputs": [
    {
     "data": {
      "text/plain": "            AUTHOR  CITATIONS\n0   Stefan Wermter       6067\n1  Frank Steinicke       1162",
      "text/html": "<div>\n<style scoped>\n    .dataframe tbody tr th:only-of-type {\n        vertical-align: middle;\n    }\n\n    .dataframe tbody tr th {\n        vertical-align: top;\n    }\n\n    .dataframe thead th {\n        text-align: right;\n    }\n</style>\n<table border=\"1\" class=\"dataframe\">\n  <thead>\n    <tr style=\"text-align: right;\">\n      <th></th>\n      <th>AUTHOR</th>\n      <th>CITATIONS</th>\n    </tr>\n  </thead>\n  <tbody>\n    <tr>\n      <th>0</th>\n      <td>Stefan Wermter</td>\n      <td>6067</td>\n    </tr>\n    <tr>\n      <th>1</th>\n      <td>Frank Steinicke</td>\n      <td>1162</td>\n    </tr>\n  </tbody>\n</table>\n</div>"
     },
     "execution_count": 15,
     "metadata": {},
     "output_type": "execute_result"
    }
   ],
   "source": [
    "q = f\"\"\"\n",
    "    SELECT\n",
    "        (?name as ?AUTHOR)\n",
    "        (SUM(?citations) as ?CITATIONS)\n",
    "    WHERE {{\n",
    "        ?id a schema:Person ;\n",
    "            schema:name ?name ;\n",
    "            schema:author [\n",
    "                dbp:citation [\n",
    "                    dbp:amount ?citations\n",
    "                ]\n",
    "            ] ;\n",
    "\n",
    "        VALUES ?name {{ \"{author_list}\" }}\n",
    "    }}\n",
    "    GROUP BY ?name\n",
    "    ORDER BY DESC(?WORK_NUMBER)\n",
    "\"\"\"\n",
    "df = res_to_dataframe(g.query(q))\n",
    "df.head()"
   ],
   "metadata": {
    "collapsed": false,
    "pycharm": {
     "name": "#%%\n"
    }
   }
  },
  {
   "cell_type": "markdown",
   "source": [
    "We can also consider the number of citations per year."
   ],
   "metadata": {
    "collapsed": false,
    "pycharm": {
     "name": "#%% md\n"
    }
   }
  },
  {
   "cell_type": "code",
   "execution_count": 22,
   "outputs": [
    {
     "data": {
      "text/plain": "                      CITATIONS\nAUTHOR          YEAR           \nFrank Steinicke 2012          1\n                2014          1\n                2015         10\n                2016         22\n                2017         59\n                2018         99\n                2019        242\n                2020        267\n                2021        402\n                2022         59\nStefan Wermter  2012         47\n                2013         55\n                2014         71\n                2015        110\n                2016        182\n                2017        354\n                2018        676\n                2019        962\n                2020       1607\n                2021       1740\n                2022        263",
      "text/html": "<div>\n<style scoped>\n    .dataframe tbody tr th:only-of-type {\n        vertical-align: middle;\n    }\n\n    .dataframe tbody tr th {\n        vertical-align: top;\n    }\n\n    .dataframe thead th {\n        text-align: right;\n    }\n</style>\n<table border=\"1\" class=\"dataframe\">\n  <thead>\n    <tr style=\"text-align: right;\">\n      <th></th>\n      <th></th>\n      <th>CITATIONS</th>\n    </tr>\n    <tr>\n      <th>AUTHOR</th>\n      <th>YEAR</th>\n      <th></th>\n    </tr>\n  </thead>\n  <tbody>\n    <tr>\n      <th rowspan=\"10\" valign=\"top\">Frank Steinicke</th>\n      <th>2012</th>\n      <td>1</td>\n    </tr>\n    <tr>\n      <th>2014</th>\n      <td>1</td>\n    </tr>\n    <tr>\n      <th>2015</th>\n      <td>10</td>\n    </tr>\n    <tr>\n      <th>2016</th>\n      <td>22</td>\n    </tr>\n    <tr>\n      <th>2017</th>\n      <td>59</td>\n    </tr>\n    <tr>\n      <th>2018</th>\n      <td>99</td>\n    </tr>\n    <tr>\n      <th>2019</th>\n      <td>242</td>\n    </tr>\n    <tr>\n      <th>2020</th>\n      <td>267</td>\n    </tr>\n    <tr>\n      <th>2021</th>\n      <td>402</td>\n    </tr>\n    <tr>\n      <th>2022</th>\n      <td>59</td>\n    </tr>\n    <tr>\n      <th rowspan=\"11\" valign=\"top\">Stefan Wermter</th>\n      <th>2012</th>\n      <td>47</td>\n    </tr>\n    <tr>\n      <th>2013</th>\n      <td>55</td>\n    </tr>\n    <tr>\n      <th>2014</th>\n      <td>71</td>\n    </tr>\n    <tr>\n      <th>2015</th>\n      <td>110</td>\n    </tr>\n    <tr>\n      <th>2016</th>\n      <td>182</td>\n    </tr>\n    <tr>\n      <th>2017</th>\n      <td>354</td>\n    </tr>\n    <tr>\n      <th>2018</th>\n      <td>676</td>\n    </tr>\n    <tr>\n      <th>2019</th>\n      <td>962</td>\n    </tr>\n    <tr>\n      <th>2020</th>\n      <td>1607</td>\n    </tr>\n    <tr>\n      <th>2021</th>\n      <td>1740</td>\n    </tr>\n    <tr>\n      <th>2022</th>\n      <td>263</td>\n    </tr>\n  </tbody>\n</table>\n</div>"
     },
     "execution_count": 22,
     "metadata": {},
     "output_type": "execute_result"
    }
   ],
   "source": [
    "q = f\"\"\"\n",
    "    SELECT\n",
    "        (?name as ?AUTHOR)\n",
    "        (?year as ?YEAR)\n",
    "        (SUM(?citations) as ?CITATIONS)\n",
    "    WHERE {{\n",
    "        ?id a schema:Person ;\n",
    "            schema:name ?name ;\n",
    "            schema:author [\n",
    "                dbp:citation [\n",
    "                    dbp:amount ?citations ;\n",
    "                    dbp:year ?year\n",
    "                ]\n",
    "            ] ;\n",
    "\n",
    "        VALUES ?name {{ \"{author_list}\" }}\n",
    "    }}\n",
    "    GROUP BY ?name ?year\n",
    "    ORDER BY DESC(?year)\n",
    "\"\"\"\n",
    "df = res_to_dataframe(g.query(q))\n",
    "df = df.set_index([\"AUTHOR\", \"YEAR\"])\n",
    "df = df.sort_index()\n",
    "df"
   ],
   "metadata": {
    "collapsed": false,
    "pycharm": {
     "name": "#%%\n"
    }
   }
  }
 ],
 "metadata": {
  "kernelspec": {
   "display_name": "Python 3",
   "language": "python",
   "name": "python3"
  },
  "language_info": {
   "codemirror_mode": {
    "name": "ipython",
    "version": 2
   },
   "file_extension": ".py",
   "mimetype": "text/x-python",
   "name": "python",
   "nbconvert_exporter": "python",
   "pygments_lexer": "ipython2",
   "version": "2.7.6"
  }
 },
 "nbformat": 4,
 "nbformat_minor": 0
}