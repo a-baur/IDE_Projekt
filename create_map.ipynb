{
 "cells": [
  {
   "cell_type": "markdown",
   "source": [
    "# Create Venue Location map\n",
    "\n",
    "# Analysis of University Metrics\n",
    "\n",
    "This notebook shows, how our graphs enables the analysis of the geographic features of venues. Here, we create a map of where universities publications are published in the world. This can be used to assess the international relevance of an university."
   ],
   "metadata": {
    "collapsed": false
   }
  },
  {
   "cell_type": "code",
   "execution_count": 1,
   "metadata": {
    "collapsed": true
   },
   "outputs": [
    {
     "data": {
      "text/plain": "<Graph identifier=N8a4744002d15475c8759836fb197a65e (<class 'graph.oa_graph.OpenAlexGraph'>)>"
     },
     "execution_count": 1,
     "metadata": {},
     "output_type": "execute_result"
    }
   ],
   "source": [
    "from graph.oa_graph import OpenAlexGraph\n",
    "from graph.analyse_graph import UNI_QUERY_LIST\n",
    "\n",
    "g = OpenAlexGraph()\n",
    "g.parse(\"out/graph.ttl\")"
   ]
  },
  {
   "cell_type": "code",
   "execution_count": 2,
   "outputs": [
    {
     "data": {
      "text/plain": "<rdflib.plugins.sparql.processor.SPARQLResult at 0x1b673fa0190>"
     },
     "execution_count": 2,
     "metadata": {},
     "output_type": "execute_result"
    }
   ],
   "source": [
    "q = f\"\"\"\n",
    "    SELECT\n",
    "        (SAMPLE(?inst_name) as ?INST)\n",
    "        (CONCAT('[', GROUP_CONCAT(CONCAT('(', str(?lat), ', ', str(?lng), ')'); separator=', '), ']') as ?COORD)\n",
    "        (CONCAT('[', GROUP_CONCAT(CONCAT('\"', ?ven_name, '\"'); separator=', '), ']') as ?VENUE)\n",
    "    WHERE {{\n",
    "        ?id_inst a schema:EducationalOrganization ;\n",
    "            schema:name ?inst_name .\n",
    "\n",
    "        VALUES ?inst_name {{ {UNI_QUERY_LIST} }}\n",
    "\n",
    "        ?work dbp:institution ?id_inst ;\n",
    "            schema:event [\n",
    "                schema:name ?ven_name ;\n",
    "                schema:location [\n",
    "                    schema:latitude ?lat ;\n",
    "                    schema:longitude ?lng\n",
    "                ]\n",
    "            ]\n",
    "    }}\n",
    "    GROUP BY ?inst_name\n",
    "\"\"\"\n",
    "res = g.query(q)\n",
    "res"
   ],
   "metadata": {
    "collapsed": false,
    "pycharm": {
     "name": "#%%\n"
    }
   }
  },
  {
   "cell_type": "code",
   "execution_count": 14,
   "outputs": [
    {
     "data": {
      "text/plain": "True"
     },
     "execution_count": 14,
     "metadata": {},
     "output_type": "execute_result"
    }
   ],
   "source": [
    "import folium\n",
    "import webbrowser\n",
    "from folium.plugins import MarkerCluster, HeatMap\n",
    "\n",
    "folium_map = folium.Map(location=[20, 0], max_bounds=True, zoom_start=2, tiles='CartoDB positron')\n",
    "\n",
    "for row in res:\n",
    "    inst = row.asdict()[\"INST\"]\n",
    "    coords = eval(row.asdict()[\"COORD\"])\n",
    "    venue = eval(row.asdict()[\"VENUE\"])\n",
    "\n",
    "    layer = folium.FeatureGroup(name=inst, show=False)\n",
    "    cluster = MarkerCluster(locations=coords, popups=venue).add_to(layer)\n",
    "    # HeatMap(coords).add_to(layer)\n",
    "    folium_map.add_child(layer)\n",
    "\n",
    "folium_map.add_child(folium.map.LayerControl())\n",
    "folium_map.save(\"map.html\")\n",
    "webbrowser.open(\"map.html\")"
   ],
   "metadata": {
    "collapsed": false,
    "pycharm": {
     "name": "#%%\n"
    }
   }
  }
 ],
 "metadata": {
  "kernelspec": {
   "display_name": "Python 3",
   "language": "python",
   "name": "python3"
  },
  "language_info": {
   "codemirror_mode": {
    "name": "ipython",
    "version": 2
   },
   "file_extension": ".py",
   "mimetype": "text/x-python",
   "name": "python",
   "nbconvert_exporter": "python",
   "pygments_lexer": "ipython2",
   "version": "2.7.6"
  }
 },
 "nbformat": 4,
 "nbformat_minor": 0
}