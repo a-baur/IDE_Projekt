{
 "cells": [
  {
   "cell_type": "code",
   "execution_count": 2,
   "outputs": [],
   "source": [
    "########## CONFIGURATION ###########\n",
    "GRAPH_PATH = \"../out/coord_graph.ttl\""
   ],
   "metadata": {
    "collapsed": false,
    "pycharm": {
     "name": "#%%\n"
    }
   }
  },
  {
   "cell_type": "code",
   "execution_count": 3,
   "metadata": {
    "collapsed": true
   },
   "outputs": [
    {
     "data": {
      "text/plain": "[{'search_name': 'Christian Ahlf',\n  'institution_id': 'https://openalex.org/I70451448',\n  'results': []},\n {'search_name': 'Jakob Andersen',\n  'institution_id': 'https://openalex.org/I70451448',\n  'results': [{'id': 'https://openalex.org/A2525626150',\n    'display_name': 'Jakob Smedegaard Andersen'},\n   {'id': 'https://openalex.org/A4214226477',\n    'display_name': 'Jakob Andersen'}]}]"
     },
     "execution_count": 3,
     "metadata": {},
     "output_type": "execute_result"
    }
   ],
   "source": [
    "import json\n",
    "from glob import glob\n",
    "\n",
    "data_authors = []\n",
    "for filename in glob(\"..\\\\data_collection\\\\1_get_author_ids_output\\\\*.json\"):\n",
    "    with open(filename, encoding=\"utf8\") as f:\n",
    "        data_authors.extend(json.load(f))\n",
    "\n",
    "data_authors[:2]"
   ]
  },
  {
   "cell_type": "code",
   "execution_count": 4,
   "outputs": [
    {
     "data": {
      "text/plain": "{'id': 'https://openalex.org/W3176618563',\n 'doi': 'https://doi.org/10.18653/v1/2021.acl-demo.17',\n 'title': 'REM: Efficient Semi-Automated Real-Time Moderation of Online Forums',\n 'display_name': 'REM: Efficient Semi-Automated Real-Time Moderation of Online Forums',\n 'publication_year': 2021,\n 'publication_date': '2021-08-01',\n 'ids': {'openalex': 'https://openalex.org/W3176618563',\n  'doi': 'https://doi.org/10.18653/v1/2021.acl-demo.17',\n  'mag': '3176618563'},\n 'host_venue': {'id': None,\n  'issn_l': None,\n  'issn': None,\n  'display_name': 'meeting of the association for computational linguistics',\n  'publisher': 'Association for Computational Linguistics',\n  'type': 'publisher',\n  'url': 'https://doi.org/10.18653/v1/2021.acl-demo.17',\n  'is_oa': True,\n  'version': 'publishedVersion',\n  'license': 'cc-by'},\n 'type': 'proceedings-article',\n 'open_access': {'is_oa': True,\n  'oa_status': 'hybrid',\n  'oa_url': 'https://aclanthology.org/2021.acl-demo.17.pdf'},\n 'authorships': [{'author_position': 'first',\n   'author': {'id': 'https://openalex.org/A2525626150',\n    'display_name': 'Jakob Smedegaard Andersen',\n    'orcid': None},\n   'institutions': [{'id': 'https://openalex.org/I70451448',\n     'display_name': 'Hamburg University of Applied Sciences',\n     'ror': 'https://ror.org/00fkqwx76',\n     'country_code': 'DE',\n     'type': 'education'}],\n   'raw_affiliation_string': None},\n  {'author_position': 'middle',\n   'author': {'id': 'https://openalex.org/A721429111',\n    'display_name': 'Olaf Zukunft',\n    'orcid': None},\n   'institutions': [{'id': 'https://openalex.org/I70451448',\n     'display_name': 'Hamburg University of Applied Sciences',\n     'ror': 'https://ror.org/00fkqwx76',\n     'country_code': 'DE',\n     'type': 'education'}],\n   'raw_affiliation_string': None},\n  {'author_position': 'last',\n   'author': {'id': 'https://openalex.org/A3186294417',\n    'display_name': 'Walid Maalej',\n    'orcid': None},\n   'institutions': [{'id': 'https://openalex.org/I159176309',\n     'display_name': 'Universität Hamburg',\n     'ror': 'https://ror.org/00g30e956',\n     'country_code': 'DE',\n     'type': 'education'}],\n   'raw_affiliation_string': None}],\n 'cited_by_count': 0,\n 'biblio': {'volume': None,\n  'issue': None,\n  'first_page': '142',\n  'last_page': '149'},\n 'is_retracted': False,\n 'is_paratext': False,\n 'concepts': [{'id': 'https://openalex.org/C41008148',\n   'wikidata': 'https://www.wikidata.org/wiki/Q21198',\n   'display_name': 'Computer science',\n   'level': 0,\n   'score': '0.648933'},\n  {'id': 'https://openalex.org/C2986087404',\n   'wikidata': 'https://www.wikidata.org/wiki/Q15946010',\n   'display_name': 'Online learning',\n   'level': 2,\n   'score': '0.338109'},\n  {'id': 'https://openalex.org/C2779662365',\n   'wikidata': 'https://www.wikidata.org/wiki/Q5416694',\n   'display_name': 'Event (particle physics)',\n   'level': 2,\n   'score': '0.32608'}],\n 'mesh': [],\n 'alternate_host_venues': [{'id': None,\n   'display_name': None,\n   'type': 'journal',\n   'url': 'https://aclanthology.org/2021.acl-demo.17.pdf',\n   'is_oa': True,\n   'version': 'publishedVersion',\n   'license': 'cc-by'}],\n 'referenced_works': ['https://openalex.org/W1993613062',\n  'https://openalex.org/W2382312077',\n  'https://openalex.org/W2189465200',\n  'https://openalex.org/W2996500226',\n  'https://openalex.org/W2184059664',\n  'https://openalex.org/W2241850672',\n  'https://openalex.org/W2028138594',\n  'https://openalex.org/W2101807845',\n  'https://openalex.org/W2792592348',\n  'https://openalex.org/W2740895812',\n  'https://openalex.org/W2941394980',\n  'https://openalex.org/W2065010255',\n  'https://openalex.org/W2753079413',\n  'https://openalex.org/W2903158431',\n  'https://openalex.org/W3011542385',\n  'https://openalex.org/W2945828977',\n  'https://openalex.org/W2962855291',\n  'https://openalex.org/W2003238113',\n  'https://openalex.org/W2111189837',\n  'https://openalex.org/W2766005220',\n  'https://openalex.org/W2953384591',\n  'https://openalex.org/W2474803649',\n  'https://openalex.org/W2942161347',\n  'https://openalex.org/W1997326096',\n  'https://openalex.org/W2097749765'],\n 'related_works': ['https://openalex.org/W1567007040',\n  'https://openalex.org/W2501050832',\n  'https://openalex.org/W2410722524',\n  'https://openalex.org/W2991099293',\n  'https://openalex.org/W2342281051',\n  'https://openalex.org/W3088852692',\n  'https://openalex.org/W2754215704',\n  'https://openalex.org/W3168476095',\n  'https://openalex.org/W2527660037',\n  'https://openalex.org/W2805116311',\n  'https://openalex.org/W2979602389',\n  'https://openalex.org/W78250886',\n  'https://openalex.org/W2587467493',\n  'https://openalex.org/W279631868',\n  'https://openalex.org/W3023398882',\n  'https://openalex.org/W2166345396',\n  'https://openalex.org/W1855293664',\n  'https://openalex.org/W2783693948',\n  'https://openalex.org/W2791919974',\n  'https://openalex.org/W2511173823'],\n 'abstract_inverted_index': {'This': [0],\n  'paper': [1],\n  'presents': [2],\n  'REM,': [3],\n  'a': [4, 46, 66, 98, 111],\n  'novel': [5],\n  'tool': [6, 96],\n  'for': [7, 20, 83],\n  'the': [8, 24, 59, 73, 104, 117, 125],\n  'semi-automated': [9, 67],\n  'real-time': [10],\n  'moderation': [11, 48, 68],\n  'of': [12, 27, 62, 75, 106, 119, 128],\n  'large': [13],\n  'scale': [14, 51],\n  'online': [15, 21, 43, 107],\n  'forums.': [16, 44],\n  'The': [17],\n  'growing': [18],\n  'demand': [19],\n  'participation': [22],\n  'and': [23, 36, 53, 122],\n  'increasing': [25],\n  'number': [26],\n  'user': [28],\n  'comments': [29, 82],\n  'raise': [30],\n  'challenges': [31],\n  'in': [32, 42],\n  'filtering': [33],\n  'out': [34],\n  'harmful': [35],\n  'undesirable': [37],\n  'content': [38],\n  'from': [39],\n  'public': [40],\n  'debates': [41],\n  'Since': [45],\n  'manual': [47, 76],\n  'does': [49],\n  'not': [50],\n  'well': [52],\n  'pure': [54],\n  'automated': [55],\n  'approaches': [56],\n  'often': [57],\n  'lack': [58],\n  'required': [60],\n  'level': [61],\n  'accuracy,': [63],\n  'we': [64],\n  'suggest': [65],\n  'approach.': [69],\n  'Our': [70, 95],\n  'approach': [71, 121],\n  'maximizes': [72],\n  'efficiency': [74],\n  'efforts': [77],\n  'by': [78],\n  'targeting': [79],\n  'only': [80],\n  'those': [81],\n  'which': [84],\n  'human': [85],\n  'intervention': [86],\n  'is': [87],\n  'needed,': [88],\n  'e.g.': [89],\n  'due': [90],\n  'to': [91, 115],\n  'high': [92],\n  'classification': [93],\n  'uncertainty.': [94],\n  'offers': [97],\n  'rich': [99],\n  'visual': [100],\n  'interactive': [101],\n  'environment': [102],\n  'enabling': [103],\n  'exploration': [105],\n  'debates.': [108],\n  'We': [109],\n  'conduct': [110],\n  'preliminary': [112],\n  'evaluation': [113],\n  'experiment': [114],\n  'demonstrate': [116],\n  'suitability': [118],\n  'our': [120],\n  'publicly': [123],\n  'release': [124],\n  'source': [126],\n  'code': [127],\n  'REM.': [129]},\n 'cited_by_api_url': 'https://api.openalex.org/works?filter=cites:W3176618563',\n 'counts_by_year': [],\n 'updated_date': '2021-11-03',\n 'created_date': '2021-07-05'}"
     },
     "execution_count": 4,
     "metadata": {},
     "output_type": "execute_result"
    }
   ],
   "source": [
    "data_works = []\n",
    "for filename in glob(\"..\\\\data_collection\\\\2_get_works_output\\\\*.json\"):\n",
    "    with open(filename, encoding=\"utf8\") as f:\n",
    "        data_works.extend(json.load(f))\n",
    "\n",
    "data_works[0]"
   ],
   "metadata": {
    "collapsed": false,
    "pycharm": {
     "name": "#%%\n"
    }
   }
  },
  {
   "cell_type": "code",
   "execution_count": 5,
   "outputs": [],
   "source": [
    "from glob import glob\n",
    "\n",
    "import pandas as pd\n",
    "\n",
    "locations = []\n",
    "venues = []\n",
    "\n",
    "ven_files = glob(\"../data_collection/venues/*.json\")\n",
    "loc_files = glob(\"../data_collection/locations/*.json\")\n",
    "\n",
    "ven_dfs = []\n",
    "loc_dfs = []\n",
    "for fn_ven, fn_loc in zip(ven_files, loc_files):\n",
    "    with open(fn_ven) as f_ven, open(fn_loc) as f_loc:\n",
    "        loc_dfs.append(pd.read_json(f_loc, orient=\"records\"))\n",
    "        ven_dfs.append(pd.read_json(f_ven, orient=\"records\"))\n",
    "\n",
    "ven_df = pd.concat(ven_dfs, axis=0, ignore_index=True)\n",
    "loc_df = pd.concat(loc_dfs, axis=0, ignore_index=True)\n",
    "loc_df = loc_df.dropna(subset=[\"city\", \"country\"])"
   ],
   "metadata": {
    "collapsed": false,
    "pycharm": {
     "name": "#%%\n"
    }
   }
  },
  {
   "cell_type": "code",
   "execution_count": 6,
   "outputs": [],
   "source": [
    "str_cols = [\"title\", \"type\", \"venue\", \"url\"]\n",
    "ven_df[str_cols] = ven_df[str_cols].astype(str)"
   ],
   "metadata": {
    "collapsed": false,
    "pycharm": {
     "name": "#%%\n"
    }
   }
  },
  {
   "cell_type": "code",
   "execution_count": 7,
   "outputs": [],
   "source": [
    "str_cols = [\"city\", \"country\", \"venue\"]\n",
    "loc_df[str_cols] = loc_df[str_cols].astype(str)"
   ],
   "metadata": {
    "collapsed": false,
    "pycharm": {
     "name": "#%%\n"
    }
   }
  },
  {
   "cell_type": "code",
   "execution_count": 8,
   "outputs": [
    {
     "data": {
      "text/plain": "                                                title  \\\n0   Word-Level Uncertainty Estimation for Black-Bo...   \n2   The Two Shades of Dubbing in Neural Machine Tr...   \n4   Exploring Amharic Sentiment Analysis from Soci...   \n10       Towards Visual Data Science - An Exploration   \n12  Evaluating the Scaling of Graph-Algorithms for...   \n\n                              type   venue  year  \\\n0   Conference and Workshop Papers  COLING  2020   \n2   Conference and Workshop Papers  COLING  2020   \n4   Conference and Workshop Papers  COLING  2020   \n10  Conference and Workshop Papers   IHIET  2019   \n12  Conference and Workshop Papers     OBD  2016   \n\n                                           url       city  country  \n0   https://dblp.org/db/conf/coling/index.html  Barcelona    Spain  \n2   https://dblp.org/db/conf/coling/index.html  Barcelona    Spain  \n4   https://dblp.org/db/conf/coling/index.html  Barcelona    Spain  \n10   https://dblp.org/db/conf/ihiet/index.html       Nice   France  \n12     https://dblp.org/db/conf/obd/index.html     Vienna  Austria  ",
      "text/html": "<div>\n<style scoped>\n    .dataframe tbody tr th:only-of-type {\n        vertical-align: middle;\n    }\n\n    .dataframe tbody tr th {\n        vertical-align: top;\n    }\n\n    .dataframe thead th {\n        text-align: right;\n    }\n</style>\n<table border=\"1\" class=\"dataframe\">\n  <thead>\n    <tr style=\"text-align: right;\">\n      <th></th>\n      <th>title</th>\n      <th>type</th>\n      <th>venue</th>\n      <th>year</th>\n      <th>url</th>\n      <th>city</th>\n      <th>country</th>\n    </tr>\n  </thead>\n  <tbody>\n    <tr>\n      <th>0</th>\n      <td>Word-Level Uncertainty Estimation for Black-Bo...</td>\n      <td>Conference and Workshop Papers</td>\n      <td>COLING</td>\n      <td>2020</td>\n      <td>https://dblp.org/db/conf/coling/index.html</td>\n      <td>Barcelona</td>\n      <td>Spain</td>\n    </tr>\n    <tr>\n      <th>2</th>\n      <td>The Two Shades of Dubbing in Neural Machine Tr...</td>\n      <td>Conference and Workshop Papers</td>\n      <td>COLING</td>\n      <td>2020</td>\n      <td>https://dblp.org/db/conf/coling/index.html</td>\n      <td>Barcelona</td>\n      <td>Spain</td>\n    </tr>\n    <tr>\n      <th>4</th>\n      <td>Exploring Amharic Sentiment Analysis from Soci...</td>\n      <td>Conference and Workshop Papers</td>\n      <td>COLING</td>\n      <td>2020</td>\n      <td>https://dblp.org/db/conf/coling/index.html</td>\n      <td>Barcelona</td>\n      <td>Spain</td>\n    </tr>\n    <tr>\n      <th>10</th>\n      <td>Towards Visual Data Science - An Exploration</td>\n      <td>Conference and Workshop Papers</td>\n      <td>IHIET</td>\n      <td>2019</td>\n      <td>https://dblp.org/db/conf/ihiet/index.html</td>\n      <td>Nice</td>\n      <td>France</td>\n    </tr>\n    <tr>\n      <th>12</th>\n      <td>Evaluating the Scaling of Graph-Algorithms for...</td>\n      <td>Conference and Workshop Papers</td>\n      <td>OBD</td>\n      <td>2016</td>\n      <td>https://dblp.org/db/conf/obd/index.html</td>\n      <td>Vienna</td>\n      <td>Austria</td>\n    </tr>\n  </tbody>\n</table>\n</div>"
     },
     "execution_count": 8,
     "metadata": {},
     "output_type": "execute_result"
    }
   ],
   "source": [
    "df = pd.merge(ven_df, loc_df, on=[\"venue\", \"year\"])\n",
    "df = df.drop_duplicates()\n",
    "df.head()"
   ],
   "metadata": {
    "collapsed": false,
    "pycharm": {
     "name": "#%%\n"
    }
   }
  },
  {
   "cell_type": "code",
   "execution_count": 12,
   "outputs": [],
   "source": [
    "city_coords = {}"
   ],
   "metadata": {
    "collapsed": false,
    "pycharm": {
     "name": "#%%\n"
    }
   }
  },
  {
   "cell_type": "code",
   "execution_count": 15,
   "outputs": [
    {
     "name": "stdout",
     "output_type": "stream",
     "text": [
      "Adding work 4890/4891 (1e+02%)      "
     ]
    }
   ],
   "source": [
    "import requests\n",
    "from urllib.parse import quote_plus\n",
    "from graph.oa_graph_json import OpenAlexGraph, _resource_from_uri\n",
    "\n",
    "\n",
    "def get_dbr_resource(term: str):\n",
    "    if not isinstance(term, str):\n",
    "        return\n",
    "    term = term.replace(' ', '_')\n",
    "    resource = quote_plus(term)\n",
    "    return resource\n",
    "\n",
    "\n",
    "def get_coord_from_dbo(city: str):\n",
    "    \"\"\"\n",
    "    Workaround for service queries in rdflib not working:\n",
    "    Request node uri and get coordinates.\n",
    "\n",
    "    :param city: City resource name\n",
    "    :return: lat, lng\n",
    "    \"\"\"\n",
    "    if not isinstance(city, str):\n",
    "        return None, None\n",
    "    if city in city_coords:\n",
    "        return city_coords[city]\n",
    "    uri = \"http://dbpedia.org/resource/\" + city\n",
    "    resp = requests.get(uri, headers={\"accept\": \"application/json\"})\n",
    "    try:\n",
    "        node = resp.json()[uri]\n",
    "        lng = node['http://www.w3.org/2003/01/geo/wgs84_pos#long'][0][\"value\"]\n",
    "        lat = node['http://www.w3.org/2003/01/geo/wgs84_pos#lat'][0][\"value\"]\n",
    "        city_coords[city] = (lat, lng)\n",
    "        return lat, lng\n",
    "    except KeyError:\n",
    "        return None, None\n",
    "\n",
    "\n",
    "g = OpenAlexGraph()\n",
    "\n",
    "total = len(data_works)\n",
    "for i, item in enumerate(data_works):\n",
    "    print(\n",
    "        f\"\\rAdding work {i}/{total} ({i/total * 100:.2g}%)      \",\n",
    "        end=\"\"\n",
    "    )\n",
    "    host_venue = item[\"host_venue\"]\n",
    "    host_id = _resource_from_uri(host_venue[\"id\"])\n",
    "\n",
    "    # Add work\n",
    "    work_id = _resource_from_uri(item[\"id\"])\n",
    "    work_name = item[\"display_name\"]\n",
    "    g.add_work(\n",
    "        identifier=work_id,\n",
    "        name=work_name,\n",
    "        date_published=item[\"publication_date\"],\n",
    "    )\n",
    "\n",
    "    for cites_by_year in item[\"counts_by_year\"]:\n",
    "        g.add_citations_in_year(\n",
    "            identifier=work_id,\n",
    "            year=cites_by_year[\"year\"],\n",
    "            citations=cites_by_year[\"cited_by_count\"]\n",
    "        )\n",
    "\n",
    "    # Add authors of paper and is_author relation\n",
    "    prev_author = None\n",
    "    for authorship in item[\"authorships\"]:\n",
    "        author = authorship[\"author\"]\n",
    "        author_id = _resource_from_uri(author[\"id\"])\n",
    "        author_name = author[\"display_name\"]\n",
    "\n",
    "        inst_id = None\n",
    "        if authorship[\"institutions\"]:\n",
    "            inst = authorship[\"institutions\"][0]\n",
    "            inst_id = _resource_from_uri(inst[\"id\"])\n",
    "            inst_name = inst[\"display_name\"]\n",
    "            g.add_institution(inst_id, inst_name)\n",
    "            g.add_associated_with_institution(work_id, inst_id)\n",
    "\n",
    "        g.add_author(author_id, author_name, inst_id)\n",
    "        if prev_author:\n",
    "            g.add_colleague(author_id, prev_author)\n",
    "        prev_author = author_id\n",
    "        g.add_is_author(author_id, work_id)\n",
    "\n",
    "    ven = df[df[\"title\"] == work_name]\n",
    "    if not ven.empty:\n",
    "        ven = ven.iloc[0]\n",
    "        ven_id = _resource_from_uri(ven[\"url\"], res_loc=-2)\n",
    "        ven_city = get_dbr_resource(ven[\"city\"])\n",
    "        ven_country = get_dbr_resource(ven[\"country\"])\n",
    "        lat, lng = get_coord_from_dbo(ven_city)\n",
    "        g.add_venue(\n",
    "            work_id=work_id,\n",
    "            identifier=ven_id,\n",
    "            name=ven[\"venue\"],\n",
    "            year=ven[\"year\"],\n",
    "            city=ven_city,\n",
    "            country=ven_country,\n",
    "            lat=lat,\n",
    "            lng=lng,\n",
    "\n",
    "        )"
   ],
   "metadata": {
    "collapsed": false,
    "pycharm": {
     "name": "#%%\n"
    }
   }
  },
  {
   "cell_type": "code",
   "execution_count": 16,
   "outputs": [
    {
     "data": {
      "text/plain": "110175"
     },
     "execution_count": 16,
     "metadata": {},
     "output_type": "execute_result"
    }
   ],
   "source": [
    "len(g)"
   ],
   "metadata": {
    "collapsed": false,
    "pycharm": {
     "name": "#%%\n"
    }
   }
  },
  {
   "cell_type": "code",
   "execution_count": 17,
   "outputs": [
    {
     "data": {
      "text/plain": "<Graph identifier=N8bd7fa3cdeb34a7aa52f70edc4aa87c7 (<class 'graph.oa_graph.OpenAlexGraph'>)>"
     },
     "execution_count": 17,
     "metadata": {},
     "output_type": "execute_result"
    }
   ],
   "source": [
    "g.serialize(GRAPH_PATH)"
   ],
   "metadata": {
    "collapsed": false,
    "pycharm": {
     "name": "#%%\n"
    }
   }
  },
  {
   "cell_type": "code",
   "execution_count": 18,
   "outputs": [
    {
     "data": {
      "text/plain": "{'Barcelona': (41.38333511352539, 2.183333396911621),\n 'Nice': (43.70339965820312, 7.266300201416016),\n 'Vienna': (48.20833206176758, 16.37249946594238),\n 'San_Francisco': (37.77750015258789, -122.416389465332),\n 'Boppard': (50.23138809204102, 7.590833187103271),\n 'Turku': (60.45000076293945, 22.26666641235352),\n 'Prague': (50.08333206176758, 14.41666698455811),\n 'Berlin': (52.52000045776367, 13.40499973297119),\n 'Geneva': (46.20166778564453, 6.146944522857666),\n 'Salzburg': (47.79999923706055, 13.03333377838135),\n 'Osaka': (34.69388961791992, 135.5022277832031),\n 'Rome': (41.89333343505859, 12.48277759552002),\n 'Gothenburg': (57.70000076293945, 11.96666622161865),\n 'Pisa': (43.71666717529297, 10.39999961853027),\n 'Clearwater_Beach': (27.97993087768555, -82.82723236083984),\n 'Paderborn': (51.71805572509766, 8.754166603088379),\n 'Cannes': (43.55130004882812, 7.012800216674805),\n 'Langenargen': (47.59999847412109, 9.541666984558105),\n 'Marburg': (50.81000137329102, 8.770833015441895),\n 'Munich': (48.13750076293945, 11.57499980926514),\n 'Edmonton': (53.53444290161133, -113.4902801513672),\n 'Ljubljana': (46.05555725097656, 14.50833320617676),\n 'Marseille': (43.2963981628418, 5.369999885559082),\n 'Paris': (48.85661315917969, 2.352221965789795),\n 'Amsterdam': (52.36666488647461, 4.900000095367432),\n 'Hanoi': (21.02833366394043, 105.8541641235352),\n 'Garching': (48.25, 11.64999961853027),\n 'Boston': (42.34999847412109, -71.05000305175781),\n 'Vancouver': (49.26111221313477, -123.1138916015625),\n 'Larnaca': (34.91666793823242, 33.63333511352539),\n 'Kyoto': (35.01166534423828, 135.7683258056641),\n 'Graz': (47.07083511352539, 15.43861103057861),\n 'Philadelphia': (39.95277786254883, -75.16361236572266),\n 'Miami': (25.7751636505127, -80.2086181640625),\n 'Pittsburgh': (40.43972015380859, -79.97638702392578),\n 'Indianapolis': (39.76861190795898, -86.1580581665039),\n 'Brooklyn': (40.69277954101562, -73.99028015136719),\n 'Coimbra': (40.21111297607422, -8.429166793823242),\n 'Lugano': (46.00500106811523, 8.952500343322754),\n 'London': (51.50722122192383, -0.1274999976158142),\n 'Linz': (48.29999923706055, 14.28333377838135),\n 'Beijing': (39.90666580200195, 116.3974990844727),\n 'Toulouse': (43.60449981689453, 1.444000005722046),\n 'Dallas': (32.77916717529297, -96.80889129638672),\n 'Estoril': (38.70416641235352, -9.398333549499512),\n 'Budapest': (47.49250030517578, 19.05138969421387),\n 'Dresden': (51.04999923706055, 13.73999977111816),\n 'Leipzig': (51.33333206176758, 12.38333320617676),\n 'Hakodate': (41.76861190795898, 140.7288818359375),\n 'Koblenz': (50.35972213745117, 7.597777843475342),\n 'Moscow': (55.75583267211914, 37.61722183227539),\n 'Hamburg': (53.56527709960938, 10.00138854980469),\n 'Bangalore': (12.97888851165771, 77.59166717529297),\n 'Corfu': (39.58333206176758, 19.86666679382324),\n 'Honolulu': (21.30694389343262, -157.8583374023438),\n 'Athens': (37.98416519165039, 23.72805595397949),\n 'Bremen': (53.08333206176758, 8.800000190734863),\n 'San_Diego': (32.71500015258789, -117.1624984741211),\n 'Las_Vegas': (36.17499923706055, -115.1363906860352),\n 'Valencia': (39.46666717529297, -0.375),\n 'Regensburg': (49.01666641235352, 12.08333301544189),\n 'Lisbon': (38.72526550292969, -9.150019645690918),\n 'Montreal': (45.50888824462891, -73.55416870117188),\n 'Turin': (45.07916641235352, 7.676111221313477),\n 'Belfast': (54.59638977050781, -5.929999828338623),\n 'Eindhoven': (51.43333435058594, 5.483333110809326),\n 'Copenhagen': (55.67610931396484, 12.56833362579346),\n 'Auckland': (-36.84055709838867, 174.7400054931641),\n 'Edinburgh': (55.95333480834961, -3.189166784286499),\n 'Santorini': (36.41666793823242, 25.4333324432373),\n 'Shanghai': (31.22861099243164, 121.474723815918),\n 'Tokyo': (35.68972396850586, 139.6922149658203),\n 'Atlanta': (33.7488899230957, -84.38999938964844),\n 'Lyon': (45.7599983215332, 4.840000152587891),\n 'Cottbus': (51.76055526733398, 14.33416652679443),\n 'Benidorm': (38.5341682434082, -0.1313888877630234),\n 'Paphos': (34.76666641235352, 32.41666793823242),\n 'Toronto': (43.74166488647461, -79.37333679199219),\n 'Klagenfurt': (46.61666488647461, 14.30000019073486),\n 'Antwerp': (51.21777725219727, 4.400277614593506),\n 'Trento': (46.06666564941406, 11.11666679382324),\n 'Grenoble': (45.17154693603516, 5.722386837005615),\n 'Bonn': (50.73333358764648, 7.099999904632568),\n 'Kassel': (51.31579971313477, 9.497900009155273),\n 'Mannheim': (49.48777770996094, 8.466111183166504),\n 'Sitges': (41.23699951171875, 1.822999954223633),\n 'Bucharest': (44.43249893188477, 26.10388946533203),\n 'Venice': (45.4375, 12.33583354949951),\n 'Los_Angeles': (34.04999923706055, -118.25),\n 'Sydney': (-33.8650016784668, 151.2094421386719),\n 'Chania': (35.51666641235352, 24.01666641235352),\n 'Abu_Dhabi': (24.46666717529297, 54.36666488647461),\n 'Seoul': (37.56000137329102, 126.9899978637695),\n 'Istanbul': (41.01361083984375, 28.95499992370605),\n 'Christchurch': (-43.52999877929688, 172.6202850341797),\n 'Dubai': (25.2630558013916, 55.29722213745117),\n 'Limassol': (34.67472076416016, 33.04416656494141),\n 'Niagara_Falls': (43.07989883422852, -79.07469940185547),\n 'Ottawa': (45.42472076416016, -75.69499969482422),\n 'Killarney': (52.05879974365234, -9.507200241088867),\n 'Aachen': (50.77555465698242, 6.083611011505127),\n 'Ulm': (48.40000152587891, 9.983333587646484),\n 'Kranj': (46.23333358764648, 14.36666679382324),\n 'Southampton': (50.90000152587891, -1.399999976158142),\n 'Houston': (29.76277732849121, -95.383056640625),\n 'Chasseneuil-du-Poitou': (46.65190124511719, 0.3731000125408173),\n 'Lausanne': (46.51983261108398, 6.633500099182129),\n 'Dubrovnik': (42.64027786254883, 18.10833358764648),\n 'Heidelberg': (49.41666793823242, 8.716666221618652),\n 'Baden-Baden': (48.76277923583984, 8.240833282470703),\n 'Quebec_City': (46.81388854980469, -71.20805358886719),\n 'Cambridge': (52.20527648925781, 0.1191666647791862),\n 'Almaty': (43.27750015258789, 76.89583587646484),\n 'Thessaloniki': (40.64027786254883, 22.93555641174316),\n 'Madrid': (40.41666793823242, -3.716666698455811),\n 'Bruges': (51.20888900756836, 3.224166631698608),\n 'Kallithea': (37.95000076293945, 23.70000076293945),\n 'Milwaukee': (43.04999923706055, -87.94999694824219),\n 'Palermo': (38.11111068725586, 13.35166645050049),\n 'Taipei': (25.0666675567627, 121.5166702270508),\n 'Oslo': (59.91388702392578, 10.75222206115723),\n 'New_Orleans': (29.95000076293945, -90.0750732421875),\n 'Hong_Kong': (22.29999923706055, 114.1999969482422),\n 'Magdeburg': (52.13166809082031, 11.63916683197021),\n 'Hyderabad': (17.36166572570801, 78.47472381591797),\n 'Stockholm': (59.32944488525391, 18.06861114501953),\n 'Seattle': (47.60972213745117, -122.3330535888672),\n 'Metz': (49.12027740478516, 6.177777767181396),\n 'Chicago': (41.88194274902344, -87.62777709960938),\n 'Ponta_Delgada': (37.74111175537109, -25.68055534362793),\n 'Hefei': (31.82060050964355, 117.2273025512695),\n 'Sanya': (18.25289916992188, 109.5117034912109),\n 'Punta_Cana': (18.53333282470703, -68.36666870117188),\n 'Bahir_Dar': (11.60000038146973, 37.38333511352539),\n 'Stavanger': (58.96333312988281, 5.718888759613037),\n 'Kauai': (22.08333396911621, -159.5),\n 'Maui': (20.79999923706055, -156.3333282470703),\n 'Portsmouth': (50.80583190917969, -1.087222218513489),\n 'Porto': (41.16213989257812, -8.621953010559082),\n 'Tel_Aviv': (32.06666564941406, 34.78333282470703),\n 'Detroit': (42.33139038085938, -83.04582977294922),\n 'Helsinki': (60.17083358764648, 24.9375),\n 'Bari': (41.12527847290039, 16.86666679382324),\n 'Ispra': (45.81388854980469, 8.611944198608398),\n 'New_York_City': (40.71277618408203, -74.00611114501953),\n 'Erlangen': (49.58333206176758, 11.01666641235352),\n 'Geseke': (51.65000152587891, 8.516666412353516),\n 'Milan': (45.46694564819336, 9.1899995803833),\n 'Yokohama': (35.44416809082031, 139.6380615234375),\n 'Canberra': (-35.29305648803711, 149.1269378662109),\n 'Fribourg': (46.79999923706055, 7.150000095367432),\n 'Vilamoura': (37.07830047607422, -8.117449760437012),\n 'Darmstadt': (49.87222290039062, 8.652777671813965),\n 'Espoo': (60.2055549621582, 24.65555572509766),\n 'Zhuhai': (22.2716007232666, 113.5768966674805),\n 'Jena': (50.92722320556641, 11.58611106872559),\n 'Dublin': (53.34972381591797, -6.26027774810791),\n 'Avignon': (43.95000076293945, 4.807499885559082),\n 'Valletta': (35.89833450317383, 14.51249980926514),\n 'Canterbury': (51.27999877929688, 1.080000042915344),\n 'Reggio_Calabria': (38.11138916015625, 15.66194438934326),\n 'Jodhpur': (26.28000068664551, 73.0199966430664),\n 'Rennes': (48.11470031738281, -1.679399967193604),\n 'Brighton': (50.8283805847168, -0.1394699960947037),\n 'Guildford': (51.23649978637695, -0.5702999830245972),\n 'Calgary': (51.04583358764648, -114.057502746582),\n 'Warsaw': (52.22999954223633, 21.01111030578613),\n 'Brisbane': (-27.46777725219727, 153.0280609130859),\n 'Chiang_Mai': (18.79527854919434, 98.99861145019531),\n 'Belgrade': (44.81666564941406, 20.46666717529297),\n 'Emden': (53.366943359375, 7.206110954284668),\n 'Rio_de_Janeiro': (-22.9113655090332, -43.20591735839844),\n 'Stuttgart': (48.78200149536133, 9.184000015258789),\n 'Cagliari': (39.22777938842773, 9.11111068725586),\n 'Bochum': (51.4819450378418, 7.215833187103271),\n 'Calabria': (38.91666793823242, 16.60000038146973),\n 'Bratislava': (48.14389038085938, 17.10972213745117),\n 'Delft': (52.01173782348633, 4.359208106994629),\n 'Qingdao': (36.06689834594727, 120.382698059082),\n 'Bali': (-8.335000038146973, 115.0880584716797),\n 'Shenzhen': (22.54150009155273, 114.0596008300781),\n 'Montevideo': (-34.88360977172852, -56.18194580078125),\n 'Salt_Lake_City': (40.76083374023438, -111.89111328125),\n 'Como': (45.81666564941406, 9.083333015441895),\n 'Bethlehem': (31.70305633544922, 35.195556640625),\n 'Angers': (47.47361373901367, -0.5541669726371765),\n 'Montpellier': (43.61190032958984, 3.87719988822937),\n 'Sophia_Antipolis': (43.62222290039062, 7.054999828338623),\n 'Funchal': (32.65000152587891, -16.91666603088379),\n 'Patras': (38.25, 21.73333358764648),\n 'Cairo': (30.03333282470703, 31.23333358764648),\n 'Naples': (40.84500122070312, 14.25833320617676),\n 'Rhodes': (36.16666793823242, 27.9333324432373),\n 'Alghero': (40.56000137329102, 8.3149995803833),\n 'Oxford': (51.75194549560547, -1.257777810096741),\n 'Chemnitz': (50.83333206176758, 12.91666698455811),\n 'Reutlingen': (48.48333358764648, 9.216666221618652),\n 'Brussels': (50.84999847412109, 4.349999904632568),\n 'Belfort': (47.63999938964844, 6.849999904632568),\n 'Manchester': (53.47944259643555, -2.245277881622314),\n 'Buenos_Aires': (-34.60333251953125, -58.38166809082031),\n 'Sierre': (46.29999923706055, 7.533333301544189),\n 'Tangier': (35.77666854858398, -5.80388879776001),\n 'Innsbruck': (47.26833343505859, 11.39333343505859),\n 'Bologna': (44.49388885498047, 11.34277820587158),\n 'Kaohsiung': (22.63333320617676, 120.2666702270508),\n 'Aix-en-Provence': (43.52630233764648, 5.445428848266602),\n 'Rostock': (54.08333206176758, 12.13333320617676),\n 'Karlskrona': (56.16083145141602, 15.58611106872559),\n 'Genoa': (44.41110992431641, 8.932777404785156),\n 'Lima': (-12.0600004196167, -77.0374984741211),\n 'Baltimore': (39.28944396972656, -76.61528015136719),\n 'Sofia': (42.70000076293945, 23.32999992370605),\n 'Samos': (37.75, 26.83333396911621),\n 'Riga': (56.94889068603516, 24.10638809204102),\n 'Borovets': (42.26444625854492, 23.6069450378418),\n 'Brno': (49.19250106811523, 16.60833358764648),\n 'Coconut_Grove': (25.71666717529297, -80.25),\n 'Roskilde': (55.65000152587891, 12.08333301544189),\n 'Kaiserslautern': (49.44472122192383, 7.7688889503479),\n 'Erfurt': (50.98333358764648, 11.03333377838135),\n 'Utrecht': (52.08333206176758, 5.116666793823242),\n 'Bad_Honnef': (50.64500045776367, 7.226944446563721),\n 'York': (53.95833206176758, -1.080277800559998),\n 'Bled': (46.36880111694336, 14.11397457122803),\n 'Sliema': (35.91222381591797, 14.50416660308838),\n 'Gramado': (-29.40472221374512, -50.87638854980469),\n 'Florence': (43.77138900756836, 11.25416660308838),\n 'Santiago': (-33.45000076293945, -70.66666412353516),\n 'Pori': (61.48333358764648, 21.79999923706055),\n 'Catania': (37.5, 15.09027767181396),\n 'Delhi': (28.61000061035156, 77.2300033569336),\n 'Karlsruhe': (49.00920867919922, 8.403951644897461),\n 'Glasgow': (55.86111068725586, -4.25),\n 'Bamberg': (49.90000152587891, 10.89999961853027),\n 'Adelaide': (-34.9275016784668, 138.6000061035156),\n 'Isle_of_Skye': (57.30699920654297, -6.230000019073486),\n 'Kiel': (54.32333374023438, 10.13944435119629),\n 'Braunschweig': (52.26666641235352, 10.51666641235352),\n 'Bielefeld': (52.02111053466797, 8.534722328186035),\n 'Beekbergen': (52.15833282470703, 5.966666698455811),\n 'Zakopane': (49.29999923706055, 19.95000076293945),\n 'Udine': (46.06666564941406, 13.23333358764648),\n 'Pune': (18.52027702331543, 73.8566665649414),\n 'Sheffield': (53.38083267211914, -1.470277786254883),\n 'Lille': (50.62779998779297, 3.058300018310547),\n 'Cergy-Pontoise': (49.03610992431641, 2.063055515289307),\n 'Daejeon': (36.35100173950195, 127.3850021362305),\n 'New_Delhi': (28.61389541625977, 77.2090072631836),\n 'Tampere': (61.49805450439453, 23.76000022888184),\n 'Sardinia': (40, 9),\n 'Nicosia': (35.17250061035156, 33.3650016784668),\n 'Minneapolis': (44.9819450378418, -93.2691650390625),\n 'Taichung': (24.14999961853027, 120.6666641235352),\n 'Asahikawa': (43.76666641235352, 142.3666687011719),\n 'Kuala_Lumpur': (3.147777795791626, 101.6952743530273),\n 'Ningbo': (29.86030006408691, 121.6244964599609),\n 'Angkor_Wat': (13.41250038146973, 103.866943359375),\n 'Seville': (37.38999938964844, -5.989999771118164),\n 'Yinchuan': (38.47200012207031, 106.258903503418),\n 'Guangzhou': (23.1299991607666, 113.2600021362305),\n 'Karon_Beach': (7.861111164093018, 98.29166412353516),\n 'Chongqing': (29.56369972229004, 106.5503997802734),\n 'Tianjin': (39.13359832763672, 117.2053985595703),\n 'Guilin': (25.27499961853027, 110.2959976196289),\n 'St._Louis': (38.62722396850586, -90.1977767944336),\n 'Wuhan': (30.59339904785156, 114.3046035766602),\n 'Bangkok': (13.7524995803833, 100.4941635131836),\n 'Nanjing': (32.0614013671875, 118.7636032104492),\n 'Kunming': (25.04640007019043, 102.7093963623047),\n 'Sendai': (38.26822280883789, 140.8694152832031),\n 'Shenyang': (41.8046989440918, 123.4339981079102),\n 'Dalian': (38.90000152587891, 121.5999984741211)}"
     },
     "execution_count": 18,
     "metadata": {},
     "output_type": "execute_result"
    }
   ],
   "source": [
    "city_coords"
   ],
   "metadata": {
    "collapsed": false,
    "pycharm": {
     "name": "#%%\n"
    }
   }
  },
  {
   "cell_type": "code",
   "execution_count": 21,
   "outputs": [],
   "source": [
    "import pickle\n",
    "with open(\"../out/city_coords.pkl\", 'wb') as f:\n",
    "    pickle.dump(city_coords, f)"
   ],
   "metadata": {
    "collapsed": false,
    "pycharm": {
     "name": "#%%\n"
    }
   }
  }
 ],
 "metadata": {
  "kernelspec": {
   "display_name": "Python 3",
   "language": "python",
   "name": "python3"
  },
  "language_info": {
   "codemirror_mode": {
    "name": "ipython",
    "version": 2
   },
   "file_extension": ".py",
   "mimetype": "text/x-python",
   "name": "python",
   "nbconvert_exporter": "python",
   "pygments_lexer": "ipython2",
   "version": "2.7.6"
  }
 },
 "nbformat": 4,
 "nbformat_minor": 0
}