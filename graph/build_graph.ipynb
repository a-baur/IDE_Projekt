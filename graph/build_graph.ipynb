{
 "cells": [
  {
   "cell_type": "code",
   "execution_count": 5,
   "outputs": [],
   "source": [
    "########## CONFIGURATION ###########\n",
    "GRAPH_PATH = \"../out/graph.ttl\""
   ],
   "metadata": {
    "collapsed": false,
    "pycharm": {
     "name": "#%%\n"
    }
   }
  },
  {
   "cell_type": "code",
   "execution_count": 6,
   "metadata": {
    "collapsed": true
   },
   "outputs": [
    {
     "data": {
      "text/plain": "[{'search_name': 'Christian Ahlf',\n  'institution_id': 'https://openalex.org/I70451448',\n  'results': []},\n {'search_name': 'Jakob Andersen',\n  'institution_id': 'https://openalex.org/I70451448',\n  'results': [{'id': 'https://openalex.org/A2525626150',\n    'display_name': 'Jakob Smedegaard Andersen'},\n   {'id': 'https://openalex.org/A4214226477',\n    'display_name': 'Jakob Andersen'}]}]"
     },
     "execution_count": 6,
     "metadata": {},
     "output_type": "execute_result"
    }
   ],
   "source": [
    "import json\n",
    "from glob import glob\n",
    "\n",
    "data_authors = []\n",
    "for filename in glob(\"..\\\\data_collection\\\\1_get_author_ids_output\\\\*.json\"):\n",
    "    with open(filename, encoding=\"utf8\") as f:\n",
    "        data_authors.extend(json.load(f))\n",
    "\n",
    "data_authors[:2]"
   ]
  },
  {
   "cell_type": "code",
   "execution_count": 7,
   "outputs": [
    {
     "data": {
      "text/plain": "{'id': 'https://openalex.org/W3176618563',\n 'doi': 'https://doi.org/10.18653/v1/2021.acl-demo.17',\n 'title': 'REM: Efficient Semi-Automated Real-Time Moderation of Online Forums',\n 'display_name': 'REM: Efficient Semi-Automated Real-Time Moderation of Online Forums',\n 'publication_year': 2021,\n 'publication_date': '2021-08-01',\n 'ids': {'openalex': 'https://openalex.org/W3176618563',\n  'doi': 'https://doi.org/10.18653/v1/2021.acl-demo.17',\n  'mag': '3176618563'},\n 'host_venue': {'id': None,\n  'issn_l': None,\n  'issn': None,\n  'display_name': 'meeting of the association for computational linguistics',\n  'publisher': 'Association for Computational Linguistics',\n  'type': 'publisher',\n  'url': 'https://doi.org/10.18653/v1/2021.acl-demo.17',\n  'is_oa': True,\n  'version': 'publishedVersion',\n  'license': 'cc-by'},\n 'type': 'proceedings-article',\n 'open_access': {'is_oa': True,\n  'oa_status': 'hybrid',\n  'oa_url': 'https://aclanthology.org/2021.acl-demo.17.pdf'},\n 'authorships': [{'author_position': 'first',\n   'author': {'id': 'https://openalex.org/A2525626150',\n    'display_name': 'Jakob Smedegaard Andersen',\n    'orcid': None},\n   'institutions': [{'id': 'https://openalex.org/I70451448',\n     'display_name': 'Hamburg University of Applied Sciences',\n     'ror': 'https://ror.org/00fkqwx76',\n     'country_code': 'DE',\n     'type': 'education'}],\n   'raw_affiliation_string': None},\n  {'author_position': 'middle',\n   'author': {'id': 'https://openalex.org/A721429111',\n    'display_name': 'Olaf Zukunft',\n    'orcid': None},\n   'institutions': [{'id': 'https://openalex.org/I70451448',\n     'display_name': 'Hamburg University of Applied Sciences',\n     'ror': 'https://ror.org/00fkqwx76',\n     'country_code': 'DE',\n     'type': 'education'}],\n   'raw_affiliation_string': None},\n  {'author_position': 'last',\n   'author': {'id': 'https://openalex.org/A3186294417',\n    'display_name': 'Walid Maalej',\n    'orcid': None},\n   'institutions': [{'id': 'https://openalex.org/I159176309',\n     'display_name': 'Universität Hamburg',\n     'ror': 'https://ror.org/00g30e956',\n     'country_code': 'DE',\n     'type': 'education'}],\n   'raw_affiliation_string': None}],\n 'cited_by_count': 0,\n 'biblio': {'volume': None,\n  'issue': None,\n  'first_page': '142',\n  'last_page': '149'},\n 'is_retracted': False,\n 'is_paratext': False,\n 'concepts': [{'id': 'https://openalex.org/C41008148',\n   'wikidata': 'https://www.wikidata.org/wiki/Q21198',\n   'display_name': 'Computer science',\n   'level': 0,\n   'score': '0.648933'},\n  {'id': 'https://openalex.org/C2986087404',\n   'wikidata': 'https://www.wikidata.org/wiki/Q15946010',\n   'display_name': 'Online learning',\n   'level': 2,\n   'score': '0.338109'},\n  {'id': 'https://openalex.org/C2779662365',\n   'wikidata': 'https://www.wikidata.org/wiki/Q5416694',\n   'display_name': 'Event (particle physics)',\n   'level': 2,\n   'score': '0.32608'}],\n 'mesh': [],\n 'alternate_host_venues': [{'id': None,\n   'display_name': None,\n   'type': 'journal',\n   'url': 'https://aclanthology.org/2021.acl-demo.17.pdf',\n   'is_oa': True,\n   'version': 'publishedVersion',\n   'license': 'cc-by'}],\n 'referenced_works': ['https://openalex.org/W1993613062',\n  'https://openalex.org/W2382312077',\n  'https://openalex.org/W2189465200',\n  'https://openalex.org/W2996500226',\n  'https://openalex.org/W2184059664',\n  'https://openalex.org/W2241850672',\n  'https://openalex.org/W2028138594',\n  'https://openalex.org/W2101807845',\n  'https://openalex.org/W2792592348',\n  'https://openalex.org/W2740895812',\n  'https://openalex.org/W2941394980',\n  'https://openalex.org/W2065010255',\n  'https://openalex.org/W2753079413',\n  'https://openalex.org/W2903158431',\n  'https://openalex.org/W3011542385',\n  'https://openalex.org/W2945828977',\n  'https://openalex.org/W2962855291',\n  'https://openalex.org/W2003238113',\n  'https://openalex.org/W2111189837',\n  'https://openalex.org/W2766005220',\n  'https://openalex.org/W2953384591',\n  'https://openalex.org/W2474803649',\n  'https://openalex.org/W2942161347',\n  'https://openalex.org/W1997326096',\n  'https://openalex.org/W2097749765'],\n 'related_works': ['https://openalex.org/W1567007040',\n  'https://openalex.org/W2501050832',\n  'https://openalex.org/W2410722524',\n  'https://openalex.org/W2991099293',\n  'https://openalex.org/W2342281051',\n  'https://openalex.org/W3088852692',\n  'https://openalex.org/W2754215704',\n  'https://openalex.org/W3168476095',\n  'https://openalex.org/W2527660037',\n  'https://openalex.org/W2805116311',\n  'https://openalex.org/W2979602389',\n  'https://openalex.org/W78250886',\n  'https://openalex.org/W2587467493',\n  'https://openalex.org/W279631868',\n  'https://openalex.org/W3023398882',\n  'https://openalex.org/W2166345396',\n  'https://openalex.org/W1855293664',\n  'https://openalex.org/W2783693948',\n  'https://openalex.org/W2791919974',\n  'https://openalex.org/W2511173823'],\n 'abstract_inverted_index': {'This': [0],\n  'paper': [1],\n  'presents': [2],\n  'REM,': [3],\n  'a': [4, 46, 66, 98, 111],\n  'novel': [5],\n  'tool': [6, 96],\n  'for': [7, 20, 83],\n  'the': [8, 24, 59, 73, 104, 117, 125],\n  'semi-automated': [9, 67],\n  'real-time': [10],\n  'moderation': [11, 48, 68],\n  'of': [12, 27, 62, 75, 106, 119, 128],\n  'large': [13],\n  'scale': [14, 51],\n  'online': [15, 21, 43, 107],\n  'forums.': [16, 44],\n  'The': [17],\n  'growing': [18],\n  'demand': [19],\n  'participation': [22],\n  'and': [23, 36, 53, 122],\n  'increasing': [25],\n  'number': [26],\n  'user': [28],\n  'comments': [29, 82],\n  'raise': [30],\n  'challenges': [31],\n  'in': [32, 42],\n  'filtering': [33],\n  'out': [34],\n  'harmful': [35],\n  'undesirable': [37],\n  'content': [38],\n  'from': [39],\n  'public': [40],\n  'debates': [41],\n  'Since': [45],\n  'manual': [47, 76],\n  'does': [49],\n  'not': [50],\n  'well': [52],\n  'pure': [54],\n  'automated': [55],\n  'approaches': [56],\n  'often': [57],\n  'lack': [58],\n  'required': [60],\n  'level': [61],\n  'accuracy,': [63],\n  'we': [64],\n  'suggest': [65],\n  'approach.': [69],\n  'Our': [70, 95],\n  'approach': [71, 121],\n  'maximizes': [72],\n  'efficiency': [74],\n  'efforts': [77],\n  'by': [78],\n  'targeting': [79],\n  'only': [80],\n  'those': [81],\n  'which': [84],\n  'human': [85],\n  'intervention': [86],\n  'is': [87],\n  'needed,': [88],\n  'e.g.': [89],\n  'due': [90],\n  'to': [91, 115],\n  'high': [92],\n  'classification': [93],\n  'uncertainty.': [94],\n  'offers': [97],\n  'rich': [99],\n  'visual': [100],\n  'interactive': [101],\n  'environment': [102],\n  'enabling': [103],\n  'exploration': [105],\n  'debates.': [108],\n  'We': [109],\n  'conduct': [110],\n  'preliminary': [112],\n  'evaluation': [113],\n  'experiment': [114],\n  'demonstrate': [116],\n  'suitability': [118],\n  'our': [120],\n  'publicly': [123],\n  'release': [124],\n  'source': [126],\n  'code': [127],\n  'REM.': [129]},\n 'cited_by_api_url': 'https://api.openalex.org/works?filter=cites:W3176618563',\n 'counts_by_year': [],\n 'updated_date': '2021-11-03',\n 'created_date': '2021-07-05'}"
     },
     "execution_count": 7,
     "metadata": {},
     "output_type": "execute_result"
    }
   ],
   "source": [
    "data_works = []\n",
    "for filename in glob(\"..\\\\data_collection\\\\2_get_works_output\\\\*.json\"):\n",
    "    with open(filename, encoding=\"utf8\") as f:\n",
    "        data_works.extend(json.load(f))\n",
    "\n",
    "data_works[0]"
   ],
   "metadata": {
    "collapsed": false,
    "pycharm": {
     "name": "#%%\n"
    }
   }
  },
  {
   "cell_type": "code",
   "execution_count": 8,
   "outputs": [
    {
     "ename": "KeyError",
     "evalue": "'geo'",
     "output_type": "error",
     "traceback": [
      "\u001B[1;31m---------------------------------------------------------------------------\u001B[0m",
      "\u001B[1;31mKeyError\u001B[0m                                  Traceback (most recent call last)",
      "Input \u001B[1;32mIn [8]\u001B[0m, in \u001B[0;36m<cell line: 5>\u001B[1;34m()\u001B[0m\n\u001B[0;32m     36\u001B[0m     g\u001B[38;5;241m.\u001B[39madd_institution(inst_id, inst_name)\n\u001B[0;32m     37\u001B[0m     g\u001B[38;5;241m.\u001B[39madd_associated_with_institution(work_id, inst_id)\n\u001B[0;32m     38\u001B[0m     g\u001B[38;5;241m.\u001B[39madd_located_at(\n\u001B[0;32m     39\u001B[0m         inst_id,\n\u001B[1;32m---> 40\u001B[0m         country\u001B[38;5;241m=\u001B[39m\u001B[43minst\u001B[49m\u001B[43m[\u001B[49m\u001B[38;5;124;43m\"\u001B[39;49m\u001B[38;5;124;43mgeo\u001B[39;49m\u001B[38;5;124;43m\"\u001B[39;49m\u001B[43m]\u001B[49m[\u001B[38;5;124m\"\u001B[39m\u001B[38;5;124mcountry\u001B[39m\u001B[38;5;124m\"\u001B[39m],\n\u001B[0;32m     41\u001B[0m         city\u001B[38;5;241m=\u001B[39minst[\u001B[38;5;124m\"\u001B[39m\u001B[38;5;124mgeo\u001B[39m\u001B[38;5;124m\"\u001B[39m][\u001B[38;5;124m\"\u001B[39m\u001B[38;5;124mcity\u001B[39m\u001B[38;5;124m\"\u001B[39m],\n\u001B[0;32m     42\u001B[0m         latitude\u001B[38;5;241m=\u001B[39minst[\u001B[38;5;124m\"\u001B[39m\u001B[38;5;124mgeo\u001B[39m\u001B[38;5;124m\"\u001B[39m][\u001B[38;5;124m\"\u001B[39m\u001B[38;5;124mlatitude\u001B[39m\u001B[38;5;124m\"\u001B[39m],\n\u001B[0;32m     43\u001B[0m         longitude\u001B[38;5;241m=\u001B[39minst[\u001B[38;5;124m\"\u001B[39m\u001B[38;5;124mgeo\u001B[39m\u001B[38;5;124m\"\u001B[39m][\u001B[38;5;124m\"\u001B[39m\u001B[38;5;124mlongitude\u001B[39m\u001B[38;5;124m\"\u001B[39m]\n\u001B[0;32m     44\u001B[0m     )\n\u001B[0;32m     46\u001B[0m g\u001B[38;5;241m.\u001B[39madd_author(author_id, author_name, inst_id)\n\u001B[0;32m     48\u001B[0m g\u001B[38;5;241m.\u001B[39madd_is_author(author_id, work_id)\n",
      "\u001B[1;31mKeyError\u001B[0m: 'geo'"
     ]
    }
   ],
   "source": [
    "\n",
    "\n",
    "from oa_graph_json import  OpenAlexGraph, _resource_from_uri\n",
    "\n",
    "g = OpenAlexGraph()\n",
    "\n",
    "for item in data_works:\n",
    "    host_venue = item[\"host_venue\"]\n",
    "    host_id = _resource_from_uri(host_venue[\"id\"])\n",
    "\n",
    "    # Add work\n",
    "    work_id = _resource_from_uri(item[\"id\"])\n",
    "    g.add_work(\n",
    "        identifier=work_id,\n",
    "        name=item[\"display_name\"],\n",
    "        publisher=host_id,\n",
    "        publish_date=item[\"publication_date\"]\n",
    "    )\n",
    "\n",
    "    for cites_by_year in item[\"counts_by_year\"]:\n",
    "        g.add_citations_in_year(\n",
    "            identifier=work_id,\n",
    "            year=cites_by_year[\"year\"],\n",
    "            citations=cites_by_year[\"cited_by_count\"]\n",
    "        )\n",
    "\n",
    "    # Add authors of paper and is_author relation\n",
    "    for authorship in item[\"authorships\"]:\n",
    "        author = authorship[\"author\"]\n",
    "        author_id = _resource_from_uri(author[\"id\"])\n",
    "        author_name = author[\"display_name\"]\n",
    "\n",
    "        inst_id = None\n",
    "        if authorship[\"institutions\"]:\n",
    "            inst = authorship[\"institutions\"][0]\n",
    "            inst_id = _resource_from_uri(inst[\"id\"])\n",
    "            inst_name = inst[\"display_name\"]\n",
    "            g.add_institution(inst_id, inst_name)\n",
    "            g.add_associated_with_institution(work_id, inst_id)\n",
    "\n",
    "        g.add_author(author_id, author_name, inst_id)\n",
    "\n",
    "        g.add_is_author(author_id, work_id)"
   ],
   "metadata": {
    "collapsed": false,
    "pycharm": {
     "name": "#%%\n"
    }
   }
  },
  {
   "cell_type": "code",
   "execution_count": null,
   "outputs": [],
   "source": [
    "g.serialize(GRAPH_PATH)"
   ],
   "metadata": {
    "collapsed": false,
    "pycharm": {
     "name": "#%%\n"
    }
   }
  },
  {
   "cell_type": "code",
   "execution_count": null,
   "outputs": [],
   "source": [
    "len(g)"
   ],
   "metadata": {
    "collapsed": false,
    "pycharm": {
     "name": "#%%\n"
    }
   }
  }
 ],
 "metadata": {
  "kernelspec": {
   "display_name": "Python 3",
   "language": "python",
   "name": "python3"
  },
  "language_info": {
   "codemirror_mode": {
    "name": "ipython",
    "version": 2
   },
   "file_extension": ".py",
   "mimetype": "text/x-python",
   "name": "python",
   "nbconvert_exporter": "python",
   "pygments_lexer": "ipython2",
   "version": "2.7.6"
  }
 },
 "nbformat": 4,
 "nbformat_minor": 0
}