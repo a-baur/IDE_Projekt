{
 "cells": [
  {
   "cell_type": "markdown",
   "source": [
    "# Analysis of Co-Author Networks\n",
    "\n",
    "This notebook shows, how our graphs enables the analysis of author networks between universities.\n"
   ],
   "metadata": {
    "collapsed": false
   }
  },
  {
   "cell_type": "code",
   "execution_count": 2,
   "outputs": [
    {
     "data": {
      "text/plain": "<Graph identifier=N3a9d1ed721044f3898954b40726196ff (<class 'graph.oa_graph.OpenAlexGraph'>)>"
     },
     "execution_count": 2,
     "metadata": {},
     "output_type": "execute_result"
    }
   ],
   "source": [
    "from graph.oa_graph import OpenAlexGraph\n",
    "from graph.analyse_graph import UNI_LABELS\n",
    "\n",
    "g = OpenAlexGraph()\n",
    "g.parse(\"out/graph.ttl\")  # for performance, keep graph loaded"
   ],
   "metadata": {
    "collapsed": false,
    "pycharm": {
     "name": "#%%\n"
    }
   }
  },
  {
   "cell_type": "markdown",
   "source": [
    "With a simple query, we can get a network graph of all the authors that worked together between universities. Its a simple graph with _schema:Author_ nodes that are connected through _schema:collegue_ and have the attributes _schema:name_ and _schema:member_. The input can also be the same university, giving a graph within the university."
   ],
   "metadata": {
    "collapsed": false,
    "pycharm": {
     "name": "#%% md\n"
    }
   }
  },
  {
   "cell_type": "code",
   "execution_count": 4,
   "metadata": {
    "collapsed": true
   },
   "outputs": [
    {
     "name": "stdout",
     "output_type": "stream",
     "text": [
      "constructed graph of length 359.\n",
      "\n",
      "('@prefix schema: <https://schema.org/> .\\n'\n",
      " '\\n'\n",
      " '<https://openalex.org/A17064567> a schema:Person ;\\n'\n",
      " '    schema:colleague <https://openalex.org/A1995863094> ;\\n'\n",
      " '    schema:member <https://openalex.org/I884043246> ;\\n'\n",
      " '    schema:name \"Volker Turau\" .\\n'\n",
      " '\\n'\n",
      " '<https://openalex.org/A1904226921> a schema:Person ;\\n'\n",
      " '    schema:colleague <https://openalex.org/A2051072995> ;\\n'\n",
      " '    schema:member <https://openalex.org/I159176309> ;\\n'\n",
      " '    schema:name \"Matthias Kerzel\" .\\n'\n",
      " '\\n'\n",
      " '<https://openalex.org/A1963317329> a schema:Person ;\\n'\n",
      " '    schema:colleague <https://openalex.org/A91793043> ;\\n'\n",
      " '    schema:member <https://openalex.org/I159176309> ;\\n'\n",
      " '    schema:name \"Iman Saberi\" .\\n'\n",
      " '\\n'\n",
      " '<https://openalex.org/A2011424701> a schema:Person ;\\n'\n",
      " '    schema:colleague <https://openalex.org/A2522588694> ;\\n'\n",
      " '    schema:member <https://openalex.org/I159176309> ;\\n'\n",
      " '    schema:name \"Ralf Wanker\" .\\n'\n",
      " '\\n'\n",
      " '<https://openalex.org/A2045289439> a schema:Person ;\\n'\n",
      " '    schema:colleague <https://openalex.org/A91793043> ;\\n'\n",
      " '    schema:member <https://openalex.org/I884043246> ;\\n'\n",
      " '    schema:name \"Sibylle Schupp\" .\\n'\n",
      " '\\n'\n",
      " '<https://openalex.org/A2049934860> a schema:Person ;\\n'\n",
      " '    schema:colleague <https://openalex.org/A91793043> ;\\n'\n",
      " '    schema:member <https://openalex.org/I159176309> ;\\n'\n",
      " '    schema:name \"Florian Scheuer\" .\\n'\n",
      " '\\n'\n",
      " '<https://openalex.org/A2064436747> a schema:Person ;\\n'\n",
      " '    schema:colleague <https://openalex.org/A2051072995> ;\\n'\n",
      " '    schema:member <https://openalex.org/I159176309> ;\\n'\n",
      " '    schema:name \"Erik Strahl\" .\\n'\n",
      " '\\n'\n",
      " '<https://openalex.org/A2076559774> a schema:Person ;\\n'\n",
      " '    schema:colleague <https://openalex.org/A2117169913> ;\\n'\n",
      " '    schema:member <https://openalex.org/I159176309> ;\\n'\n",
      " '    schema:name \"Martin Gade\" .\\n'\n",
      " '\\n'\n",
      " '<https://openalex.org/A2097008449> a schema:Person ;\\n'\n",
      " '    schema:colleague <https://openalex.org/A2620659244> ;\\n'\n",
      " '    schema:member <https://openalex.org/I159176309> ;\\n'\n",
      " '    schema:name \"Daniel Schetelig\" .\\n'\n",
      " '\\n'\n",
      " '<https://openalex.org/A2116757159> a schema:Person ;\\n'\n",
      " '    schema:colleague <https://openalex.org/A2573876439> ;\\n'\n",
      " '    schema:member <https://openalex.org/I159176309> ;\\n'\n",
      " '   ')\n"
     ]
    }
   ],
   "source": [
    "from pprint import pprint\n",
    "\n",
    "inst_a = UNI_LABELS[\"uhh\"]\n",
    "inst_b = UNI_LABELS[\"tuhh\"]\n",
    "\n",
    "q = f\"\"\"\n",
    "    CONSTRUCT{{\n",
    "        ?author_id a schema:Person ;\n",
    "            schema:name ?author ;\n",
    "            schema:colleague ?co_author_id ;\n",
    "            schema:member ?inst_a_id .\n",
    "\n",
    "        ?co_author_id a schema:Person ;\n",
    "            schema:name ?co_author_name ;\n",
    "            schema:colleague ?author_id ;\n",
    "            schema:member ?inst_b_id .\n",
    "    }}\n",
    "    WHERE {{\n",
    "        ?author_id a schema:Person ;\n",
    "            schema:name ?author ;\n",
    "            schema:colleague ?co_author_id ;\n",
    "            schema:member ?inst_a_id ;\n",
    "            schema:author ?work .\n",
    "\n",
    "        ?co_author_id schema:name ?co_author ;\n",
    "            schema:name ?co_author_name ;\n",
    "            schema:member ?inst_b_id .\n",
    "\n",
    "        ?inst_a_id schema:name '{inst_a}' .\n",
    "        ?inst_b_id schema:name '{inst_b}' .\n",
    "    }}\n",
    "    \"\"\"\n",
    "\n",
    "c_res = g.query(q)\n",
    "print(f\"constructed graph of length {len(c_res)}.\\n\")\n",
    "c_res.serialize(\"co_author_graph.ttl\", format=\"turtle\")\n",
    "pprint(c_res.serialize(format=\"turtle\").decode()[:2000])"
   ]
  },
  {
   "cell_type": "code",
   "execution_count": 10,
   "outputs": [
    {
     "name": "stdout",
     "output_type": "stream",
     "text": [
      "constructed graph of length 1648.\n",
      "\n",
      "('@prefix schema: <https://schema.org/> .\\n'\n",
      " '\\n'\n",
      " '<https://openalex.org/A1228978151> a schema:Person ;\\n'\n",
      " '    schema:colleague <https://openalex.org/A279046443> ;\\n'\n",
      " '    schema:member <https://openalex.org/I9341345> ;\\n'\n",
      " '    schema:name \"Robert Dürichen\" .\\n'\n",
      " '\\n'\n",
      " '<https://openalex.org/A1262100447> a schema:Person ;\\n'\n",
      " '    schema:colleague <https://openalex.org/A279046443> ;\\n'\n",
      " '    schema:member <https://openalex.org/I78650965> ;\\n'\n",
      " '    schema:name \"Hagen H. Kitzler\" .\\n'\n",
      " '\\n'\n",
      " '<https://openalex.org/A1468512384> a schema:Person ;\\n'\n",
      " '    schema:colleague <https://openalex.org/A91793043> ;\\n'\n",
      " '    schema:member <https://openalex.org/> ;\\n'\n",
      " '    schema:name \"Klaus Plößl\" .\\n'\n",
      " '\\n'\n",
      " '<https://openalex.org/A1484801749> a schema:Person ;\\n'\n",
      " '    schema:colleague <https://openalex.org/A2283318906> ;\\n'\n",
      " '    schema:member <https://openalex.org/I884043246> ;\\n'\n",
      " '    schema:name \"Omer Rajput\" .\\n'\n",
      " '\\n'\n",
      " '<https://openalex.org/A1838215810> a schema:Person ;\\n'\n",
      " '    schema:colleague <https://openalex.org/A279046443> ;\\n'\n",
      " '    schema:member <https://openalex.org/I159176309> ;\\n'\n",
      " '    schema:name \"Andreas H. Guse\" .\\n'\n",
      " '\\n'\n",
      " '<https://openalex.org/A1904226921> a schema:Person ;\\n'\n",
      " '    schema:colleague <https://openalex.org/A2051072995> ;\\n'\n",
      " '    schema:member <https://openalex.org/I159176309> ;\\n'\n",
      " '    schema:name \"Matthias Kerzel\" .\\n'\n",
      " '\\n'\n",
      " '<https://openalex.org/A1911264766> a schema:Person ;\\n'\n",
      " '    schema:colleague <https://openalex.org/A340669688> ;\\n'\n",
      " '    schema:member <https://openalex.org/I63162264> ;\\n'\n",
      " '    schema:name \"Stephan Hauth\" .\\n'\n",
      " '\\n'\n",
      " '<https://openalex.org/A1944951739> a schema:Person ;\\n'\n",
      " '    schema:colleague <https://openalex.org/A340669688> ;\\n'\n",
      " '    schema:member <https://openalex.org/_01440375>,\\n'\n",
      " '        <https://openalex.org/_29652451> ;\\n'\n",
      " '    schema:name \"Alessandro Carrega\" .\\n'\n",
      " '\\n'\n",
      " '<https://openalex.org/A1966453060> a schema:Person ;\\n'\n",
      " '    schema:colleague <https://openalex.org/A2160717646> ;\\n'\n",
      " '    schema:member <https://openalex.org/I99157191> ;\\n'\n",
      " '    schema:name \"Daniele Munaretto\" .\\n'\n",
      " '\\n'\n",
      " '<https://openalex.org/A1970314962> a schema:Person ;\\n'\n",
      " '    schema:colleague <https://openalex.org/A2559582663> ;\\n'\n",
      " '    schema:memb')\n"
     ]
    }
   ],
   "source": [
    "from pprint import pprint\n",
    "\n",
    "inst = UNI_LABELS[\"tuhh\"]\n",
    "\n",
    "q = f\"\"\"\n",
    "    CONSTRUCT{{\n",
    "        ?author_id a schema:Person ;\n",
    "            schema:name ?author ;\n",
    "            schema:colleague ?co_author_id ;\n",
    "            schema:member ?inst_a_id .\n",
    "\n",
    "        ?co_author_id a schema:Person ;\n",
    "            schema:name ?co_author_name ;\n",
    "            schema:colleague ?author_id ;\n",
    "            schema:member ?inst_b_id .\n",
    "    }}\n",
    "    WHERE {{\n",
    "        ?author_id a schema:Person ;\n",
    "            schema:name ?author ;\n",
    "            schema:colleague ?co_author_id ;\n",
    "            schema:member ?inst_a_id ;\n",
    "            schema:author ?work .\n",
    "\n",
    "        ?co_author_id schema:name ?co_author ;\n",
    "            schema:name ?co_author_name ;\n",
    "            schema:member ?inst_b_id .\n",
    "\n",
    "        ?inst_a_id schema:name '{inst}' .\n",
    "\n",
    "        FILTER(?inst_a_id != ?inst_b_id)\n",
    "    }}\n",
    "    \"\"\"\n",
    "\n",
    "c_res = g.query(q)\n",
    "print(f\"constructed graph of length {len(c_res)}.\\n\")\n",
    "# c_res.serialize(\"co_author_graph.ttl\", format=\"turtle\")\n",
    "pprint(c_res.serialize(format=\"turtle\").decode()[:2000])"
   ],
   "metadata": {
    "collapsed": false,
    "pycharm": {
     "name": "#%%\n"
    }
   }
  }
 ],
 "metadata": {
  "kernelspec": {
   "display_name": "Python 3",
   "language": "python",
   "name": "python3"
  },
  "language_info": {
   "codemirror_mode": {
    "name": "ipython",
    "version": 2
   },
   "file_extension": ".py",
   "mimetype": "text/x-python",
   "name": "python",
   "nbconvert_exporter": "python",
   "pygments_lexer": "ipython2",
   "version": "2.7.6"
  }
 },
 "nbformat": 4,
 "nbformat_minor": 0
}